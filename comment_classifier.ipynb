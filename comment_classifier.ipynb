{
 "cells": [
  {
   "cell_type": "code",
   "execution_count": 2,
   "metadata": {},
   "outputs": [],
   "source": [
    "post_comments_with_labels = [\n",
    "    (\"I love this post.\", \"pos\"),\n",
    "    (\"This post is your best work.\", \"pos\"),\n",
    "    (\"I really liked this post.\", \"pos\"),\n",
    "    ('I agree 100 percent. This is true', 'pos'),\n",
    "    (\"This post is spot on!\", \"pos\"),\n",
    "    (\"So smart!\", \"pos\"),\n",
    "    (\"What a good point!\", \"pos\"),\n",
    "    (\"Bad stuff.\", \"neg\"),\n",
    "    (\"I hate this.\", \"neg\"),\n",
    "    (\"This post is horrible.\", \"neg\"),\n",
    "    (\"I really disliked this post.\", \"neg\"),\n",
    "    (\"What a waste of time.\", \"neg\"),\n",
    "    (\"I do not agree with this post.\", \"neg\"),\n",
    "    (\"I can't believe you would post this.\", \"neg\"),\n",
    "]\n"
   ]
  },
  {
   "cell_type": "code",
   "execution_count": 24,
   "metadata": {},
   "outputs": [
    {
     "name": "stdout",
     "output_type": "stream",
     "text": [
      "Initial Sample Count :  14\n",
      "# Pos => ['i', 'love', 'this', 'post', 'this', 'post', 'is', 'your', 'best', 'work', 'i', 'really', 'liked', 'this', 'post', 'i', 'agree', '', 'percent', 'this', 'is', 'true', 'this', 'post', 'is', 'spot', 'on', 'so', 'smart', 'what', 'a', 'good', 'point']\n",
      "# Neg => ['bad', 'stuff', 'i', 'hate', 'this', 'this', 'post', 'is', 'horrible', 'i', 'really', 'disliked', 'this', 'post', 'what', 'a', 'waste', 'of', 'time', 'i', 'do', 'not', 'agree', 'with', 'this', 'post', 'i', 'cant', 'believe', 'you', 'would', 'post', 'this'] \n",
      "\n",
      "\n",
      "Pos Counter =>  Counter({'this': 5, 'post': 4, 'i': 3, 'is': 3, 'love': 1, 'your': 1, 'best': 1, 'work': 1, 'really': 1, 'liked': 1, 'agree': 1, '': 1, 'percent': 1, 'true': 1, 'spot': 1, 'on': 1, 'so': 1, 'smart': 1, 'what': 1, 'a': 1, 'good': 1, 'point': 1})\n",
      "Neg Counter =>  Counter({'this': 5, 'i': 4, 'post': 4, 'bad': 1, 'stuff': 1, 'hate': 1, 'is': 1, 'horrible': 1, 'really': 1, 'disliked': 1, 'what': 1, 'a': 1, 'waste': 1, 'of': 1, 'time': 1, 'do': 1, 'not': 1, 'agree': 1, 'with': 1, 'cant': 1, 'believe': 1, 'you': 1, 'would': 1})\n",
      "\n",
      "--------- Classify Function Output ---------\n",
      "Tokens =>  ['love', 'this', 'post']\n",
      "Pos =>  [0.07142857142857142, 0.35714285714285715, 0.2857142857142857]\n",
      "Neg =>  [0.0, 0.35714285714285715, 0.2857142857142857]\n",
      "Pos =>  0.7142857142857143\n",
      "Neg =>  0.6428571428571428\n"
     ]
    },
    {
     "data": {
      "text/plain": [
       "'pos'"
      ]
     },
     "execution_count": 24,
     "metadata": {},
     "output_type": "execute_result"
    }
   ],
   "source": [
    "\n",
    "from string import punctuation\n",
    "from collections import Counter\n",
    "from collections import defaultdict\n",
    "\n",
    "\n",
    "class NaiveBayesClassifier:\n",
    "    def __init__(self, samples):\n",
    "        self.mapping = {\"pos\": [], \"neg\": []}\n",
    "        self.sample_count = len(samples)\n",
    "        print(\"Initial Sample Count : \",self.sample_count)\n",
    "        \n",
    "        for text, label in samples:\n",
    "            # print(\"Label : \",label)\n",
    "            # print(\"Text : \",text,\"\\n\\n\")\n",
    "            \n",
    "            self.mapping[label] += self.tokenize(text)\n",
    "            \n",
    "        print(\"# Pos =>\",self.mapping[\"pos\"])\n",
    "        print(\"# Neg =>\",self.mapping[\"neg\"],\"\\n\\n\")\n",
    "        \n",
    "        self.pos_counter = Counter(self.mapping[\"pos\"])\n",
    "        self.neg_counter = Counter(self.mapping[\"neg\"])\n",
    "        \n",
    "        print(\"Pos Counter => \",self.pos_counter)\n",
    "        print(\"Neg Counter => \",self.neg_counter)\n",
    "\n",
    "    @staticmethod\n",
    "    def tokenize(text):\n",
    "        return (\n",
    "            text.lower().translate(str.maketrans(\"\", \"\", punctuation + \"1234567890\"))\n",
    "            .replace(\"\\n\", \" \")\n",
    "            .split(\" \")\n",
    "        )\n",
    "\n",
    "    def classify(self, text):\n",
    "        print()\n",
    "        print(\"--------- Classify Function Output ---------\")\n",
    "        tokens = self.tokenize(text)\n",
    "        \n",
    "        print(\"Tokens => \",tokens)\n",
    "        pos = []\n",
    "        neg = []\n",
    "\n",
    "        for token in tokens:\n",
    "            pos.append(self.pos_counter[token]/self.sample_count)\n",
    "            neg.append(self.neg_counter[token]/self.sample_count)\n",
    "            \n",
    "        print(\"Pos => \",pos)\n",
    "        print(\"Neg => \",neg)\n",
    "        \n",
    "        pos = sum(pos)\n",
    "        neg = sum(neg)\n",
    "        \n",
    "        print(\"Pos => \",pos)\n",
    "        print(\"Neg => \",neg)\n",
    "        \n",
    "        if pos == neg:\n",
    "            return \"neutral\"\n",
    "        if pos > neg:\n",
    "            return \"pos\"\n",
    "        else:\n",
    "            return \"neg\"\n",
    "        \n",
    "        \n",
    "\n",
    "\n",
    "\n",
    "# cl = NaiveBayesClassifier(post_comments_with_labels)\n",
    "\n",
    "# For testing new comments\n",
    "def get_sentiment(text):\n",
    "    cl = NaiveBayesClassifier(post_comments_with_labels)\n",
    "    return cl.classify(text)\n",
    "\n",
    "get_sentiment(\"love this post.\")"
   ]
  }
 ],
 "metadata": {
  "kernelspec": {
   "display_name": "Python 3",
   "language": "python",
   "name": "python3"
  },
  "language_info": {
   "codemirror_mode": {
    "name": "ipython",
    "version": 3
   },
   "file_extension": ".py",
   "mimetype": "text/x-python",
   "name": "python",
   "nbconvert_exporter": "python",
   "pygments_lexer": "ipython3",
   "version": "3.11.7"
  }
 },
 "nbformat": 4,
 "nbformat_minor": 2
}
