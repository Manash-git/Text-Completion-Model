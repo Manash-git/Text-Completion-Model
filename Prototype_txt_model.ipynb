{
 "cells": [
  {
   "cell_type": "markdown",
   "metadata": {},
   "source": [
    "# Build a text completion language model from scratch"
   ]
  },
  {
   "cell_type": "code",
   "execution_count": 1,
   "metadata": {},
   "outputs": [],
   "source": [
    "import random"
   ]
  },
  {
   "cell_type": "code",
   "execution_count": 2,
   "metadata": {},
   "outputs": [
    {
     "data": {
      "text/plain": [
       "\"'\\nAbove line creates a defaultdict named graph. \\nThe list here is the default_factory, which means that if you try to access a key that doesn't exist in graph, it will create an empty list as the default value associated with that key. \\nIn other words, it ensures that every key in the defaultdict always has a default value of an empty list.\\n\""
      ]
     },
     "execution_count": 2,
     "metadata": {},
     "output_type": "execute_result"
    }
   ],
   "source": [
    "from collections import defaultdict\n",
    "graph = defaultdict(list) #  initializing it as an empty list for each key. This can be useful when you are building a graph-like structure where you have nodes (represented by keys) and each node has a list of connected nodes.\n",
    "\n",
    "''''\n",
    "Above line creates a defaultdict named graph. \n",
    "The list here is the default_factory, which means that if you try to access a key that doesn't exist in graph, it will create an empty list as the default value associated with that key. \n",
    "In other words, it ensures that every key in the defaultdict always has a default value of an empty list.\n",
    "'''"
   ]
  },
  {
   "cell_type": "code",
   "execution_count": 3,
   "metadata": {},
   "outputs": [
    {
     "name": "stdout",
     "output_type": "stream",
     "text": [
      "[]\n"
     ]
    }
   ],
   "source": [
    "''' \n",
    "In this example, the graph defaultdict is being used to store a graph-like structure where each key represents a node, and the associated value (a list) represents the neighbors of that node. \n",
    "If a key is accessed for the first time, it automatically creates an empty list as the default value.\n",
    "This can be very handy when dealing with graph algorithms or any situation where you want a default value for keys that haven't been encountered before.\n",
    "\n",
    "'''\n",
    "# Accessing a nonexistent key\n",
    "print(graph['a'])"
   ]
  },
  {
   "cell_type": "code",
   "execution_count": 4,
   "metadata": {},
   "outputs": [],
   "source": [
    "# Adding values to an existing key\n",
    "graph['b'].append(1)\n",
    "graph['b'].append(2)\n",
    "graph['a'].append(\"manash\")\n",
    "graph['a'].append(\"Mondal\")\n",
    "\n"
   ]
  },
  {
   "cell_type": "code",
   "execution_count": 5,
   "metadata": {},
   "outputs": [
    {
     "name": "stdout",
     "output_type": "stream",
     "text": [
      "[1, 2]\n",
      "defaultdict(<class 'list'>, {'a': ['manash', 'Mondal'], 'b': [1, 2]})\n"
     ]
    }
   ],
   "source": [
    "# accessing the values\n",
    "print(graph['b'])\n",
    "print(graph)\n"
   ]
  },
  {
   "cell_type": "code",
   "execution_count": 6,
   "metadata": {},
   "outputs": [],
   "source": [
    "tokens = [\"I\", \"try\", \"to\", \"learn\", \"something\", \"new\", \"every\", \"day\"] # list of tokens"
   ]
  },
  {
   "cell_type": "code",
   "execution_count": 7,
   "metadata": {},
   "outputs": [
    {
     "name": "stdout",
     "output_type": "stream",
     "text": [
      "0 I\n",
      "1 try\n",
      "2 to\n",
      "3 learn\n",
      "4 something\n",
      "5 new\n",
      "6 every\n",
      "7 day\n"
     ]
    }
   ],
   "source": [
    "for i, token in enumerate(tokens):\n",
    "    print(i, token)"
   ]
  },
  {
   "cell_type": "code",
   "execution_count": 8,
   "metadata": {},
   "outputs": [
    {
     "name": "stdout",
     "output_type": "stream",
     "text": [
      "something\n",
      "every\n",
      "every\n"
     ]
    }
   ],
   "source": [
    "print(random.choice(tokens)) # random.choice() function to pick a random element from a list\n",
    "print(random.choice(tokens)) # random.choice() function to pick a random element from a list\n",
    "print(random.choice(tokens)) # random.choice() function to pick a random element from a list"
   ]
  },
  {
   "cell_type": "code",
   "execution_count": 9,
   "metadata": {},
   "outputs": [],
   "source": [
    "t_graph = defaultdict(list) # initializing the defaultdict"
   ]
  },
  {
   "cell_type": "code",
   "execution_count": 10,
   "metadata": {},
   "outputs": [
    {
     "name": "stdout",
     "output_type": "stream",
     "text": [
      "defaultdict(<class 'list'>, {})\n",
      "[]\n"
     ]
    }
   ],
   "source": [
    "print(t_graph)\n",
    "print(t_graph[\"world\"])"
   ]
  },
  {
   "cell_type": "code",
   "execution_count": 11,
   "metadata": {},
   "outputs": [],
   "source": [
    "from string import punctuation # importing the punctuation symbols from the string module"
   ]
  },
  {
   "cell_type": "markdown",
   "metadata": {},
   "source": [
    "##### The underscore _ before a function or method name in Python is a convention that indicates that the function is intended for internal use and is not part of the public API. It's a way of signaling to other developers that this function or method is considered \"private\" and should not be relied upon or called directly from outside the class or module."
   ]
  },
  {
   "cell_type": "code",
   "execution_count": 13,
   "metadata": {},
   "outputs": [],
   "source": [
    "class MyClass:\n",
    "    def __init__(self):\n",
    "        # ...\n",
    "        pass\n",
    "\n",
    "    def _internal_function(self):\n",
    "        # This is considered internal and should not be called from outside the class\n",
    "        pass\n",
    "\n",
    "    def public_function(self):\n",
    "        # This is part of the public API and can be called from outside the class\n",
    "        pass\n",
    "\n",
    "\n",
    "'''' \n",
    "By convention, names with a single leading underscore (e.g., _internal_function) are considered internal, and developers are encouraged not to use them directly. \n",
    "However, it's important to note that Python doesn't enforce the privacy of these names, and they can still be accessed from outside the class or module if desired. \n",
    "The use of a single leading underscore is more of a suggestion to other developers rather than a strict access control mechanism.\n",
    "'''"
   ]
  },
  {
   "cell_type": "code",
   "execution_count": 14,
   "metadata": {},
   "outputs": [
    {
     "data": {
      "text/plain": [
       "{33: None,\n",
       " 34: None,\n",
       " 35: None,\n",
       " 36: None,\n",
       " 37: None,\n",
       " 38: None,\n",
       " 39: None,\n",
       " 40: None,\n",
       " 41: None,\n",
       " 42: None,\n",
       " 43: None,\n",
       " 44: None,\n",
       " 45: None,\n",
       " 46: None,\n",
       " 47: None,\n",
       " 58: None,\n",
       " 59: None,\n",
       " 60: None,\n",
       " 61: None,\n",
       " 62: None,\n",
       " 63: None,\n",
       " 64: None,\n",
       " 91: None,\n",
       " 92: None,\n",
       " 93: None,\n",
       " 94: None,\n",
       " 95: None,\n",
       " 96: None,\n",
       " 123: None,\n",
       " 124: None,\n",
       " 125: None,\n",
       " 126: None,\n",
       " 49: None,\n",
       " 50: None,\n",
       " 51: None,\n",
       " 52: None,\n",
       " 53: None,\n",
       " 54: None,\n",
       " 55: None,\n",
       " 56: None,\n",
       " 57: None,\n",
       " 48: None}"
      ]
     },
     "execution_count": 14,
     "metadata": {},
     "output_type": "execute_result"
    }
   ],
   "source": [
    "str.maketrans(\"\", \"\", punctuation + \"1234567890\")\n",
    "\n",
    "''' \n",
    "# First Argument (x): Characters to be replaced.\n",
    "In str.maketrans(x, ...), the first argument x specifies characters in the input string that should be replaced. \n",
    "However, in your case, the value is an empty string \"\". This means there are no specific characters you want to replace.\n",
    "\n",
    "# Second Argument (y): Characters to be replaced with.\n",
    "In str.maketrans(..., y, ...), the second argument y specifies the characters that the corresponding characters in the first argument should be replaced with. Here, the second argument is also an empty string \"\", meaning that there are no replacement characters.\n",
    "So, the combination of str.maketrans(\"\", \"\") in the first two arguments essentially says, \"Do not replace any characters.\"\n",
    "\n",
    "# Third Argument (z): Characters to be removed or mapped.\n",
    "In str.maketrans(..., ..., z), the third argument z specifies characters that should be either removed or mapped to None (removed). In your case, it's punctuation + \"1234567890\", meaning that any occurrence of characters in punctuation and digits will be removed from the input string.\n",
    "\n",
    "'''\n",
    "\n",
    "\n",
    "\n",
    "''' \n",
    "Here's a breakdown:\n",
    "\n",
    "First and second arguments (x and y): No specific replacements are defined.\n",
    "Third argument (z): Characters specified in punctuation and digits (1234567890) are to be removed.\n",
    "\n",
    "So, the purpose of this translation table is to remove characters from the input string, specifically punctuation and digits. \n",
    "It's used later with the translate() method to clean up the text.\n",
    "\n",
    "\n",
    "'''"
   ]
  },
  {
   "cell_type": "code",
   "execution_count": 22,
   "metadata": {},
   "outputs": [
    {
     "name": "stdout",
     "output_type": "stream",
     "text": [
      "Text var:  Hello, world!?? 123\n",
      "\n",
      "--- After translate/replace -----\n",
      "\n",
      "Result var: Hello world \n"
     ]
    }
   ],
   "source": [
    "from string import punctuation\n",
    "\n",
    "text = \"Hello, world!?? 123\"\n",
    "translation_table = str.maketrans(\"\", \"\", punctuation + \"1234567890\")\n",
    "\n",
    "result = text.translate(translation_table)\n",
    "print(\"Text var: \", text, end=\"\\n\\n\")\n",
    "print(\"--- After translate/replace -----\", end=\"\\n\\n\")\n",
    "print(\"Result var:\",result)"
   ]
  },
  {
   "cell_type": "code",
   "execution_count": 23,
   "metadata": {},
   "outputs": [
    {
     "name": "stdout",
     "output_type": "stream",
     "text": [
      "123\n"
     ]
    }
   ],
   "source": [
    "# Replace 'a' with '1', 'b' with '2', and 'c' with '3'\n",
    "translation_table = str.maketrans('abc', '123')\n",
    "\n",
    "text = \"abc\"\n",
    "result = text.translate(translation_table)\n",
    "print(result)  # Output: \"123\""
   ]
  },
  {
   "cell_type": "code",
   "execution_count": 25,
   "metadata": {},
   "outputs": [
    {
     "data": {
      "text/plain": [
       "' \\nexample_text = \"Hello, world!\\n123\"\\nresult = _tokenize(None, example_text)\\nprint(result)\\n# Output: [\\'Hello\\', \\'world\\']\\n\\n'"
      ]
     },
     "execution_count": 25,
     "metadata": {},
     "output_type": "execute_result"
    }
   ],
   "source": [
    "''' \n",
    "example_text = \"Hello, world!\\n123\"\n",
    "result = _tokenize(None, example_text)\n",
    "print(result)\n",
    "# Output: ['Hello', 'world']\n",
    "\n",
    "'''"
   ]
  },
  {
   "cell_type": "code",
   "execution_count": 24,
   "metadata": {},
   "outputs": [
    {
     "data": {
      "text/plain": [
       "' \\nSuppose you have the text \"I love programming. Programming is fun!\".\\n\\nAfter tokenization, tokens might be [\\'I\\', \\'love\\', \\'programming\\', \\'Programming\\', \\'is\\', \\'fun\\'].\\n\\nIn the loop, when i = 0 (first iteration), it considers the token \\'I\\' and appends \\'love\\' to the list associated with \\'I\\' in the self.graph.\\n\\nSimilarly, in subsequent iterations, it adds the next token to the list associated with the current token.\\n\\nAfter the loop, the self.graph dictionary would have information like:\\n\\n\\n{\\n    \\'I\\': [\\'love\\'],\\n    \\'love\\': [\\'programming\\'],\\n    \\'programming\\': [\\'Programming\\'],\\n    \\'Programming\\': [\\'is\\'],\\n    \\'is\\': [\\'fun\\']\\n}\\n\\n'"
      ]
     },
     "execution_count": 24,
     "metadata": {},
     "output_type": "execute_result"
    }
   ],
   "source": [
    "''' \n",
    "Suppose you have the text \"I love programming. Programming is fun!\".\n",
    "\n",
    "After tokenization, tokens might be ['I', 'love', 'programming', 'Programming', 'is', 'fun'].\n",
    "\n",
    "In the loop, when i = 0 (first iteration), it considers the token 'I' and appends 'love' to the list associated with 'I' in the self.graph.\n",
    "\n",
    "Similarly, in subsequent iterations, it adds the next token to the list associated with the current token.\n",
    "\n",
    "After the loop, the self.graph dictionary would have information like:\n",
    "\n",
    "\n",
    "{\n",
    "    'I': ['love'],\n",
    "    'love': ['programming'],\n",
    "    'programming': ['Programming'],\n",
    "    'Programming': ['is'],\n",
    "    'is': ['fun']\n",
    "}\n",
    "\n",
    "'''"
   ]
  },
  {
   "cell_type": "code",
   "execution_count": 62,
   "metadata": {},
   "outputs": [
    {
     "name": "stdout",
     "output_type": "stream",
     "text": [
      "Tokens:  ['Andrey', 'Markov', 'was', 'born', 'on', '', 'June', '', 'in', 'Russia', '', 'He', 'attended', 'the', 'St', 'Petersburg', 'Grammar', 'School', 'where', 'some', 'teachers', 'saw', 'him', 'as', 'a', 'rebellious', 'student', 'In', 'his', 'academics', 'he', 'performed', 'poorly', 'in', 'most', 'subjects', 'other', 'than', 'mathematics', 'Later', 'in', 'life', 'he', 'attended', 'Saint', 'Petersburg', 'Imperial', 'University', 'now', 'Saint', 'Petersburg', 'State', 'University', 'Among', 'his', 'teachers', 'were', 'Yulian', 'Sokhotski', 'differential', 'calculus', 'higher', 'algebra', 'Konstantin', 'Posse', 'analytic', 'geometry', 'Yegor', 'Zolotarev', 'integral', 'calculus', 'Pafnuty', 'Chebyshev', 'number', 'theory', 'and', 'probability', 'theory', 'Aleksandr', 'Korkin', 'ordinary', 'and', 'partial', 'differential', 'equations', 'Mikhail', 'Okatov', 'mechanism', 'theory', 'Osip', 'Somov', 'mechanics', 'and', 'Nikolai', 'Budajev', 'descriptive', 'and', 'higher', 'geometry', 'He', 'completed', 'his', 'studies', 'at', 'the', 'university', 'and', 'was', 'later', 'asked', 'if', 'he', 'would', 'like', 'to', 'stay', 'and', 'have', 'a', 'career', 'as', 'a', 'Mathematician', 'He', 'later', 'taught', 'at', 'high', 'schools', 'and', 'continued', 'his', 'own', 'mathematical', 'studies', 'In', 'this', 'time', 'he', 'found', 'a', 'practical', 'use', 'for', 'his', 'mathematical', 'skills', 'He', 'figured', 'out', 'that', 'he', 'could', 'use', 'chains', 'to', 'model', 'the', 'alliteration', 'of', 'vowels', 'and', 'consonants', 'in', 'Russian', 'literature', 'He', 'also', 'contributed', 'to', 'many', 'other', 'mathematical', 'aspects', 'in', 'his', 'time', 'He', 'died', 'at', 'age', '', 'on', '', 'July', '', 'Torvalds', 'was', 'born', 'in', 'Helsinki', 'Finland', 'the', 'son', 'of', 'journalists', 'Anna', 'and', 'Nils', 'Torvalds', 'the', 'grandson', 'of', 'statistician', 'Leo', 'Törnqvist', 'and', 'of', 'poet', 'Ole', 'Torvalds', 'and', 'the', 'greatgrandson', 'of', 'journalist', 'and', 'soldier', 'Toivo', 'Karanko', 'His', 'parents', 'were', 'campus', 'radicals', 'at', 'the', 'University', 'of', 'Helsinki', 'in', 'the', 's', 'His', 'family', 'belongs', 'to', 'the', 'Swedishspeaking', 'minority', 'in', 'Finland', 'He', 'was', 'named', 'after', 'Linus', 'Pauling', 'the', 'Nobel', 'Prizewinning', 'American', 'chemist', 'although', 'in', 'the', 'book', 'Rebel', 'Code', 'Linux', 'and', 'the', 'Open', 'Source', 'Revolution', 'he', 'is', 'quoted', 'as', 'saying', 'I', 'think', 'I', 'was', 'named', 'equally', 'for', 'Linus', 'the', 'Peanuts', 'cartoon', 'character', 'noting', 'that', 'this', 'made', 'him', 'half', 'Nobel', 'Prizewinning', 'chemist', 'and', 'half', 'blanketcarrying', 'cartoon', 'character', '', 'Torvalds', 'attended', 'the', 'University', 'of', 'Helsinki', 'from', '', 'to', '', 'graduating', 'with', 'a', 'masters', 'degree', 'in', 'computer', 'science', 'from', 'the', 'NODES', 'research', 'group', 'His', 'academic', 'career', 'was', 'interrupted', 'after', 'his', 'first', 'year', 'of', 'study', 'when', 'he', 'joined', 'the', 'Finnish', 'Navy', 'Nyland', 'Brigade', 'in', 'the', 'summer', 'of', '', 'selecting', 'the', 'month', 'officer', 'training', 'program', 'to', 'fulfill', 'the', 'mandatory', 'military', 'service', 'of', 'Finland', 'He', 'gained', 'the', 'rank', 'of', 'second', 'lieutenant', 'with', 'the', 'role', 'of', 'an', 'artillery', 'observer', 'He', 'bought', 'computer', 'science', 'professor', 'Andrew', 'Tanenbaums', 'book', 'Operating', 'Systems', 'Design', 'and', 'Implementation', 'in', 'which', 'Tanenbaum', 'describes', 'MINIX', 'an', 'educational', 'strippeddown', 'version', 'of', 'Unix', 'In', '', 'Torvalds', 'resumed', 'his', 'university', 'studies', 'and', 'was', 'exposed', 'to', 'Unix', 'for', 'the', 'first', 'time', 'in', 'the', 'form', 'of', 'a', 'DEC', 'MicroVAX', 'running', 'ULTRIX', 'His', 'MSc', 'thesis', 'was', 'titled', 'Linux', 'A', 'Portable', 'Operating', 'System', '', 'His', 'interest', 'in', 'computers', 'began', 'with', 'a', 'VIC', 'at', 'the', 'age', 'of', '', 'in', '', 'He', 'started', 'programming', 'for', 'it', 'in', 'BASIC', 'then', 'later', 'by', 'directly', 'accessing', 'the', '', 'CPU', 'in', 'machine', 'code', 'he', 'did', 'not', 'utilize', 'assembly', 'language', 'He', 'then', 'purchased', 'a', 'Sinclair', 'QL', 'which', 'he', 'modified', 'extensively', 'especially', 'its', 'operating', 'system', 'Because', 'it', 'was', 'so', 'hard', 'to', 'get', 'software', 'for', 'it', 'in', 'Finland', 'he', 'wrote', 'his', 'own', 'assembler', 'and', 'editor', 'in', 'addition', 'to', 'PacMan', 'graphics', 'libraries', 'for', 'the', 'QL', 'and', 'a', 'few', 'games', 'He', 'wrote', 'a', 'PacMan', 'clone', 'Cool', 'Man', 'On', '', 'January', '', 'he', 'purchased', 'an', 'Intel', 'based', 'clone', 'of', 'IBM', 'PC', 'before', 'receiving', 'his', 'MINIX', 'copy', 'which', 'in', 'turn', 'enabled', 'him', 'to', 'begin', 'work', 'on', 'Linux', '', 'Linux', 'Main', 'article', 'History', 'of', 'Linux', 'The', 'first', 'Linux', 'prototypes', 'were', 'publicly', 'released', 'in', 'late', '', 'Version', '', 'was', 'released', 'on', '', 'March', '', '', 'Torvalds', 'first', 'encountered', 'the', 'GNU', 'Project', 'in', '', 'when', 'another', 'Swedishspeaking', 'computer', 'science', 'student', 'Lars', 'Wirzenius', 'took', 'him', 'to', 'the', 'University', 'of', 'Technology', 'to', 'listen', 'to', 'free', 'software', 'guru', 'Richard', 'Stallmans', 'speechcitation', 'needed', 'Torvalds', 'used', 'Stallmans', 'GNU', 'General', 'Public', 'License', 'version', '', 'GPLv', 'for', 'his', 'Linux', 'kernel', '', 'After', 'a', 'visit', 'to', 'Transmeta', 'in', 'late', '', 'Torvalds', 'accepted', 'a', 'position', 'at', 'the', 'company', 'in', 'California', 'where', 'he', 'worked', 'from', 'February', '', 'to', 'June', '', 'He', 'then', 'moved', 'to', 'the', 'Open', 'Source', 'Development', 'Labs', 'which', 'has', 'since', 'merged', 'with', 'the', 'Free', 'Standards', 'Group', 'to', 'become', 'the', 'Linux', 'Foundation', 'under', 'whose', 'auspices', 'he', 'continues', 'to', 'work', 'In', 'June', '', 'Torvalds', 'and', 'his', 'family', 'moved', 'to', 'Dunthorpe', 'Oregon', 'to', 'be', 'closer', 'to', 'the', 'OSDLs', 'headquarters', 'in', 'Beaverton', '', 'From', '', 'to', '', 'he', 'was', 'involved', 'in', 'open', 'helping', 'select', 'the', 'standard', 'binary', 'format', 'for', 'Linux', 'and', 'Unix', 'In', '', 'he', 'was', 'named', 'by', 'the', 'MIT', 'Technology', 'Review', 'TR', 'as', 'one', 'of', 'the', 'worlds', 'top', '', 'innovators', 'under', 'age', '', '', 'In', '', 'Red', 'Hat', 'and', 'VA', 'Linux', 'both', 'leading', 'developers', 'of', 'Linuxbased', 'software', 'presented', 'Torvalds', 'with', 'stock', 'options', 'in', 'gratitude', 'for', 'his', 'creation', 'That', 'year', 'both', 'companies', 'went', 'public', 'and', 'Torvaldss', 'share', 'value', 'briefly', 'shot', 'up', 'to', 'about', 'US', 'million', '', 'His', 'personal', 'mascot', 'is', 'a', 'penguin', 'nicknamed', 'Tux', 'which', 'has', 'been', 'widely', 'adopted', 'by', 'the', 'Linux', 'community', 'as', 'the', 'Linux', 'kernels', 'mascot', '', 'Although', 'Torvalds', 'believes', 'open', 'source', 'is', 'the', 'only', 'right', 'way', 'to', 'do', 'software', 'he', 'also', 'has', 'said', 'that', 'he', 'uses', 'the', 'best', 'tool', 'for', 'the', 'job', 'even', 'if', 'that', 'includes', 'proprietary', 'software', 'He', 'was', 'criticized', 'for', 'his', 'use', 'and', 'alleged', 'advocacy', 'of', 'the', 'proprietary', 'BitKeeper', 'software', 'for', 'version', 'control', 'in', 'the', 'Linux', 'kernel', 'He', 'subsequently', 'wrote', 'a', 'freesoftware', 'replacement', 'for', 'it', 'called', 'Git', '', 'In', '', 'Torvalds', 'stated', 'that', 'he', 'used', 'the', 'Fedora', 'Linux', 'distribution', 'because', 'it', 'had', 'fairly', 'good', 'support', 'for', 'the', 'PowerPC', 'processor', 'architecture', 'which', 'he', 'favored', 'at', 'the', 'time', 'He', 'confirmed', 'this', 'in', 'a', '', 'interview', 'He', 'has', 'also', 'posted', 'updates', 'about', 'his', 'choice', 'of', 'desktop', 'environment', 'often', 'in', 'response', 'to', 'perceived', 'feature', 'regressions', '', 'The', 'Linux', 'Foundation', 'currently', 'sponsors', 'Torvalds', 'so', 'he', 'can', 'work', 'fulltime', 'on', 'improving', 'Linux', '', 'Torvalds', 'is', 'known', 'for', 'vocally', 'disagreeing', 'with', 'other', 'developers', 'on', 'the', 'Linux', 'kernel', 'mailing', 'list', 'Calling', 'himself', 'a', 'really', 'unpleasant', 'person', 'he', 'explained', 'Id', 'like', 'to', 'be', 'a', 'nice', 'person', 'and', 'curse', 'less', 'and', 'encourage', 'people', 'to', 'grow', 'rather', 'than', 'telling', 'them', 'they', 'are', 'idiots', 'Im', 'sorry—I', 'tried', 'its', 'just', 'not', 'in', 'me', 'His', 'attitude', 'which', 'he', 'considers', 'necessary', 'for', 'making', 'his', 'points', 'clear', 'has', 'drawn', 'criticism', 'from', 'Intel', 'programmer', 'Sage', 'Sharp', 'and', 'systemd', 'developer', 'Lennart', 'Poettering', 'among', 'othersfailed', 'verification', '', 'On', 'Sunday', '', 'September', '', 'the', 'Linux', 'kernel', 'Code', 'of', 'Conflict', 'was', 'suddenly', 'replaced', 'by', 'a', 'new', 'Code', 'of', 'Conduct', 'based', 'on', 'the', 'Contributor', 'Covenant', 'Shortly', 'thereafter', 'in', 'the', 'release', 'notes', 'for', 'Linux', 'rc', 'Torvalds', 'apologized', 'for', 'his', 'behavior', 'calling', 'his', 'personal', 'attacks', 'of', 'the', 'past', 'unprofessional', 'and', 'uncalled', 'for', 'and', 'announced', 'a', 'period', 'of', 'time', 'off', 'to', 'get', 'some', 'assistance', 'on', 'how', 'to', 'understand', 'peoples', 'emotions', 'and', 'respond', 'appropriately', 'It', 'soon', 'transpired', 'that', 'these', 'events', 'followed', 'The', 'New', 'Yorker', 'approaching', 'Torvalds', 'with', 'a', 'series', 'of', 'questions', 'critical', 'of', 'his', 'conduct', 'Following', 'the', 'release', 'of', 'Linux', '', 'on', '', 'October', '', 'Torvalds', 'returned', 'to', 'maintaining', 'the', 'kernel', '']\n",
      "Graph:  defaultdict(<class 'list'>, {'Andrey': ['Markov'], 'Markov': ['was'], 'was': ['born', 'later', 'born', 'named', 'named', 'interrupted', 'exposed', 'titled', 'so', 'released', 'involved', 'named', 'criticized', 'suddenly'], 'born': ['on', 'in'], 'on': ['', '', 'Linux', '', 'improving', 'the', 'the', 'how', ''], '': ['June', 'in', 'He', 'on', 'July', 'Torvalds', 'Torvalds', 'to', 'graduating', 'selecting', 'Torvalds', 'His', 'in', 'He', 'CPU', 'January', 'he', 'Linux', 'Version', 'was', 'March', '', 'Torvalds', 'when', 'GPLv', 'After', 'Torvalds', 'to', 'He', 'Torvalds', 'From', 'to', 'he', 'he', 'innovators', '', 'In', 'Red', 'His', 'Although', 'In', 'Torvalds', 'interview', 'The', 'Torvalds', 'On', 'September', 'the', 'on', 'October', 'Torvalds'], 'June': ['', '', ''], 'in': ['Russia', 'most', 'life', 'Russian', 'his', 'Helsinki', 'the', 'Finland', 'the', 'computer', 'the', 'which', 'the', 'computers', '', 'BASIC', 'machine', 'Finland', 'addition', 'turn', 'late', '', 'late', 'California', 'Beaverton', 'open', 'gratitude', 'the', 'a', 'response', 'me', 'the'], 'Russia': [''], 'He': ['attended', 'completed', 'later', 'figured', 'also', 'died', 'was', 'gained', 'bought', 'started', 'then', 'wrote', 'then', 'was', 'subsequently', 'confirmed', 'has'], 'attended': ['the', 'Saint', 'the'], 'the': ['St', 'university', 'alliteration', 'son', 'grandson', 'greatgrandson', 'University', 's', 'Swedishspeaking', 'Nobel', 'book', 'Open', 'Peanuts', 'University', 'NODES', 'Finnish', 'summer', 'month', 'mandatory', 'rank', 'role', 'first', 'form', 'age', '', 'QL', 'GNU', 'University', 'company', 'Open', 'Free', 'Linux', 'OSDLs', 'standard', 'MIT', 'worlds', 'Linux', 'Linux', 'only', 'best', 'job', 'proprietary', 'Linux', 'Fedora', 'PowerPC', 'time', 'Linux', 'Linux', 'Contributor', 'release', 'past', 'release', 'kernel'], 'St': ['Petersburg'], 'Petersburg': ['Grammar', 'Imperial', 'State'], 'Grammar': ['School'], 'School': ['where'], 'where': ['some', 'he'], 'some': ['teachers', 'assistance'], 'teachers': ['saw', 'were'], 'saw': ['him'], 'him': ['as', 'half', 'to', 'to'], 'as': ['a', 'a', 'saying', 'one', 'the'], 'a': ['rebellious', 'career', 'Mathematician', 'practical', 'masters', 'DEC', 'VIC', 'Sinclair', 'few', 'PacMan', 'visit', 'position', 'penguin', 'freesoftware', '', 'really', 'nice', 'new', 'period', 'series'], 'rebellious': ['student'], 'student': ['In', 'Lars'], 'In': ['his', 'this', '', 'June', '', '', ''], 'his': ['academics', 'teachers', 'studies', 'own', 'mathematical', 'time', 'first', 'university', 'own', 'MINIX', 'Linux', 'family', 'creation', 'use', 'choice', 'points', 'behavior', 'personal', 'conduct'], 'academics': ['he'], 'he': ['performed', 'attended', 'would', 'found', 'could', 'is', 'joined', 'did', 'modified', 'wrote', 'purchased', 'worked', 'continues', 'was', 'was', 'also', 'uses', 'used', 'favored', 'can', 'explained', 'considers'], 'performed': ['poorly'], 'poorly': ['in'], 'most': ['subjects'], 'subjects': ['other'], 'other': ['than', 'mathematical', 'developers'], 'than': ['mathematics', 'telling'], 'mathematics': ['Later'], 'Later': ['in'], 'life': ['he'], 'Saint': ['Petersburg', 'Petersburg'], 'Imperial': ['University'], 'University': ['now', 'Among', 'of', 'of', 'of'], 'now': ['Saint'], 'State': ['University'], 'Among': ['his'], 'were': ['Yulian', 'campus', 'publicly'], 'Yulian': ['Sokhotski'], 'Sokhotski': ['differential'], 'differential': ['calculus', 'equations'], 'calculus': ['higher', 'Pafnuty'], 'higher': ['algebra', 'geometry'], 'algebra': ['Konstantin'], 'Konstantin': ['Posse'], 'Posse': ['analytic'], 'analytic': ['geometry'], 'geometry': ['Yegor', 'He'], 'Yegor': ['Zolotarev'], 'Zolotarev': ['integral'], 'integral': ['calculus'], 'Pafnuty': ['Chebyshev'], 'Chebyshev': ['number'], 'number': ['theory'], 'theory': ['and', 'Aleksandr', 'Osip'], 'and': ['probability', 'partial', 'Nikolai', 'higher', 'was', 'have', 'continued', 'consonants', 'Nils', 'of', 'the', 'soldier', 'the', 'half', 'Implementation', 'was', 'editor', 'a', 'his', 'Unix', 'VA', 'Torvaldss', 'alleged', 'curse', 'encourage', 'systemd', 'uncalled', 'announced', 'respond'], 'probability': ['theory'], 'Aleksandr': ['Korkin'], 'Korkin': ['ordinary'], 'ordinary': ['and'], 'partial': ['differential'], 'equations': ['Mikhail'], 'Mikhail': ['Okatov'], 'Okatov': ['mechanism'], 'mechanism': ['theory'], 'Osip': ['Somov'], 'Somov': ['mechanics'], 'mechanics': ['and'], 'Nikolai': ['Budajev'], 'Budajev': ['descriptive'], 'descriptive': ['and'], 'completed': ['his'], 'studies': ['at', 'In', 'and'], 'at': ['the', 'high', 'age', 'the', 'the', 'the', 'the'], 'university': ['and', 'studies'], 'later': ['asked', 'taught', 'by'], 'asked': ['if'], 'if': ['he', 'that'], 'would': ['like'], 'like': ['to', 'to'], 'to': ['stay', 'model', 'many', 'the', '', 'fulfill', 'Unix', 'get', 'PacMan', 'begin', 'the', 'listen', 'free', 'Transmeta', 'June', 'the', 'become', 'work', 'Dunthorpe', 'be', 'the', '', 'about', 'do', 'perceived', 'be', 'grow', 'get', 'understand', 'maintaining'], 'stay': ['and'], 'have': ['a'], 'career': ['as', 'was'], 'Mathematician': ['He'], 'taught': ['at'], 'high': ['schools'], 'schools': ['and'], 'continued': ['his'], 'own': ['mathematical', 'assembler'], 'mathematical': ['studies', 'skills', 'aspects'], 'this': ['time', 'made', 'in'], 'time': ['he', 'He', 'in', 'He', 'off'], 'found': ['a'], 'practical': ['use'], 'use': ['for', 'chains', 'and'], 'for': ['his', 'Linus', 'the', 'it', 'it', 'the', 'his', 'Linux', 'his', 'the', 'his', 'version', 'it', 'the', 'vocally', 'making', 'Linux', 'his', 'and'], 'skills': ['He'], 'figured': ['out'], 'out': ['that'], 'that': ['he', 'this', 'he', 'includes', 'he', 'these'], 'could': ['use'], 'chains': ['to'], 'model': ['the'], 'alliteration': ['of'], 'of': ['vowels', 'journalists', 'statistician', 'poet', 'journalist', 'Helsinki', 'Helsinki', 'study', '', 'Finland', 'second', 'an', 'Unix', 'a', '', 'IBM', 'Linux', 'Technology', 'the', 'Linuxbased', 'the', 'desktop', 'Conflict', 'Conduct', 'the', 'time', 'questions', 'his', 'Linux'], 'vowels': ['and'], 'consonants': ['in'], 'Russian': ['literature'], 'literature': ['He'], 'also': ['contributed', 'has', 'posted'], 'contributed': ['to'], 'many': ['other'], 'aspects': ['in'], 'died': ['at'], 'age': ['', 'of', ''], 'July': [''], 'Torvalds': ['was', 'the', 'and', 'attended', 'resumed', 'first', 'used', 'accepted', 'and', 'with', 'believes', 'stated', 'so', 'is', 'apologized', 'with', 'returned'], 'Helsinki': ['Finland', 'in', 'from'], 'Finland': ['the', 'He', 'He', 'he'], 'son': ['of'], 'journalists': ['Anna'], 'Anna': ['and'], 'Nils': ['Torvalds'], 'grandson': ['of'], 'statistician': ['Leo'], 'Leo': ['Törnqvist'], 'Törnqvist': ['and'], 'poet': ['Ole'], 'Ole': ['Torvalds'], 'greatgrandson': ['of'], 'journalist': ['and'], 'soldier': ['Toivo'], 'Toivo': ['Karanko'], 'Karanko': ['His'], 'His': ['parents', 'family', 'academic', 'MSc', 'interest', 'personal', 'attitude'], 'parents': ['were'], 'campus': ['radicals'], 'radicals': ['at'], 's': ['His'], 'family': ['belongs', 'moved'], 'belongs': ['to'], 'Swedishspeaking': ['minority', 'computer'], 'minority': ['in'], 'named': ['after', 'equally', 'by'], 'after': ['Linus', 'his'], 'Linus': ['Pauling', 'the'], 'Pauling': ['the'], 'Nobel': ['Prizewinning', 'Prizewinning'], 'Prizewinning': ['American', 'chemist'], 'American': ['chemist'], 'chemist': ['although', 'and'], 'although': ['in'], 'book': ['Rebel', 'Operating'], 'Rebel': ['Code'], 'Code': ['Linux', 'of', 'of'], 'Linux': ['and', 'A', '', 'Main', 'The', 'prototypes', 'kernel', 'Foundation', 'and', 'both', 'community', 'kernels', 'kernel', 'distribution', 'Foundation', '', 'kernel', 'kernel', 'rc', ''], 'Open': ['Source', 'Source'], 'Source': ['Revolution', 'Development'], 'Revolution': ['he'], 'is': ['quoted', 'a', 'the', 'known'], 'quoted': ['as'], 'saying': ['I'], 'I': ['think', 'was'], 'think': ['I'], 'equally': ['for'], 'Peanuts': ['cartoon'], 'cartoon': ['character', 'character'], 'character': ['noting', ''], 'noting': ['that'], 'made': ['him'], 'half': ['Nobel', 'blanketcarrying'], 'blanketcarrying': ['cartoon'], 'from': ['', 'the', 'February', 'Intel'], 'graduating': ['with'], 'with': ['a', 'the', 'a', 'the', 'stock', 'other', 'a'], 'masters': ['degree'], 'degree': ['in'], 'computer': ['science', 'science', 'science'], 'science': ['from', 'professor', 'student'], 'NODES': ['research'], 'research': ['group'], 'group': ['His'], 'academic': ['career'], 'interrupted': ['after'], 'first': ['year', 'time', 'Linux', 'encountered'], 'year': ['of', 'both'], 'study': ['when'], 'when': ['he', 'another'], 'joined': ['the'], 'Finnish': ['Navy'], 'Navy': ['Nyland'], 'Nyland': ['Brigade'], 'Brigade': ['in'], 'summer': ['of'], 'selecting': ['the'], 'month': ['officer'], 'officer': ['training'], 'training': ['program'], 'program': ['to'], 'fulfill': ['the'], 'mandatory': ['military'], 'military': ['service'], 'service': ['of'], 'gained': ['the'], 'rank': ['of'], 'second': ['lieutenant'], 'lieutenant': ['with'], 'role': ['of'], 'an': ['artillery', 'educational', 'Intel'], 'artillery': ['observer'], 'observer': ['He'], 'bought': ['computer'], 'professor': ['Andrew'], 'Andrew': ['Tanenbaums'], 'Tanenbaums': ['book'], 'Operating': ['Systems', 'System'], 'Systems': ['Design'], 'Design': ['and'], 'Implementation': ['in'], 'which': ['Tanenbaum', 'he', 'in', 'has', 'has', 'he', 'he'], 'Tanenbaum': ['describes'], 'describes': ['MINIX'], 'MINIX': ['an', 'copy'], 'educational': ['strippeddown'], 'strippeddown': ['version'], 'version': ['of', '', 'control'], 'Unix': ['In', 'for', 'In'], 'resumed': ['his'], 'exposed': ['to'], 'form': ['of'], 'DEC': ['MicroVAX'], 'MicroVAX': ['running'], 'running': ['ULTRIX'], 'ULTRIX': ['His'], 'MSc': ['thesis'], 'thesis': ['was'], 'titled': ['Linux'], 'A': ['Portable'], 'Portable': ['Operating'], 'System': [''], 'interest': ['in'], 'computers': ['began'], 'began': ['with'], 'VIC': ['at'], 'started': ['programming'], 'programming': ['for'], 'it': ['in', 'was', 'in', 'called', 'had'], 'BASIC': ['then'], 'then': ['later', 'purchased', 'moved'], 'by': ['directly', 'the', 'the', 'a'], 'directly': ['accessing'], 'accessing': ['the'], 'CPU': ['in'], 'machine': ['code'], 'code': ['he'], 'did': ['not'], 'not': ['utilize', 'in'], 'utilize': ['assembly'], 'assembly': ['language'], 'language': ['He'], 'purchased': ['a', 'an'], 'Sinclair': ['QL'], 'QL': ['which', 'and'], 'modified': ['extensively'], 'extensively': ['especially'], 'especially': ['its'], 'its': ['operating', 'just'], 'operating': ['system'], 'system': ['Because'], 'Because': ['it'], 'so': ['hard', 'he'], 'hard': ['to'], 'get': ['software', 'some'], 'software': ['for', 'guru', 'presented', 'he', 'He', 'for'], 'wrote': ['his', 'a', 'a'], 'assembler': ['and'], 'editor': ['in'], 'addition': ['to'], 'PacMan': ['graphics', 'clone'], 'graphics': ['libraries'], 'libraries': ['for'], 'few': ['games'], 'games': ['He'], 'clone': ['Cool', 'of'], 'Cool': ['Man'], 'Man': ['On'], 'On': ['', 'Sunday'], 'January': [''], 'Intel': ['based', 'programmer'], 'based': ['clone', 'on'], 'IBM': ['PC'], 'PC': ['before'], 'before': ['receiving'], 'receiving': ['his'], 'copy': ['which'], 'turn': ['enabled'], 'enabled': ['him'], 'begin': ['work'], 'work': ['on', 'In', 'fulltime'], 'Main': ['article'], 'article': ['History'], 'History': ['of'], 'The': ['first', 'Linux', 'New'], 'prototypes': ['were'], 'publicly': ['released'], 'released': ['in', 'on'], 'late': ['', ''], 'Version': [''], 'March': [''], 'encountered': ['the'], 'GNU': ['Project', 'General'], 'Project': ['in'], 'another': ['Swedishspeaking'], 'Lars': ['Wirzenius'], 'Wirzenius': ['took'], 'took': ['him'], 'Technology': ['to', 'Review'], 'listen': ['to'], 'free': ['software'], 'guru': ['Richard'], 'Richard': ['Stallmans'], 'Stallmans': ['speechcitation', 'GNU'], 'speechcitation': ['needed'], 'needed': ['Torvalds'], 'used': ['Stallmans', 'the'], 'General': ['Public'], 'Public': ['License'], 'License': ['version'], 'GPLv': ['for'], 'kernel': ['', 'He', 'mailing', 'Code', ''], 'After': ['a'], 'visit': ['to'], 'Transmeta': ['in'], 'accepted': ['a'], 'position': ['at'], 'company': ['in'], 'California': ['where'], 'worked': ['from'], 'February': [''], 'moved': ['to', 'to'], 'Development': ['Labs'], 'Labs': ['which'], 'has': ['since', 'been', 'said', 'also', 'drawn'], 'since': ['merged'], 'merged': ['with'], 'Free': ['Standards'], 'Standards': ['Group'], 'Group': ['to'], 'become': ['the'], 'Foundation': ['under', 'currently'], 'under': ['whose', 'age'], 'whose': ['auspices'], 'auspices': ['he'], 'continues': ['to'], 'Dunthorpe': ['Oregon'], 'Oregon': ['to'], 'be': ['closer', 'a'], 'closer': ['to'], 'OSDLs': ['headquarters'], 'headquarters': ['in'], 'Beaverton': [''], 'From': [''], 'involved': ['in'], 'open': ['helping', 'source'], 'helping': ['select'], 'select': ['the'], 'standard': ['binary'], 'binary': ['format'], 'format': ['for'], 'MIT': ['Technology'], 'Review': ['TR'], 'TR': ['as'], 'one': ['of'], 'worlds': ['top'], 'top': [''], 'innovators': ['under'], 'Red': ['Hat'], 'Hat': ['and'], 'VA': ['Linux'], 'both': ['leading', 'companies'], 'leading': ['developers'], 'developers': ['of', 'on'], 'Linuxbased': ['software'], 'presented': ['Torvalds'], 'stock': ['options'], 'options': ['in'], 'gratitude': ['for'], 'creation': ['That'], 'That': ['year'], 'companies': ['went'], 'went': ['public'], 'public': ['and'], 'Torvaldss': ['share'], 'share': ['value'], 'value': ['briefly'], 'briefly': ['shot'], 'shot': ['up'], 'up': ['to'], 'about': ['US', 'his'], 'US': ['million'], 'million': [''], 'personal': ['mascot', 'attacks'], 'mascot': ['is', ''], 'penguin': ['nicknamed'], 'nicknamed': ['Tux'], 'Tux': ['which'], 'been': ['widely'], 'widely': ['adopted'], 'adopted': ['by'], 'community': ['as'], 'kernels': ['mascot'], 'Although': ['Torvalds'], 'believes': ['open'], 'source': ['is'], 'only': ['right'], 'right': ['way'], 'way': ['to'], 'do': ['software'], 'said': ['that'], 'uses': ['the'], 'best': ['tool'], 'tool': ['for'], 'job': ['even'], 'even': ['if'], 'includes': ['proprietary'], 'proprietary': ['software', 'BitKeeper'], 'criticized': ['for'], 'alleged': ['advocacy'], 'advocacy': ['of'], 'BitKeeper': ['software'], 'control': ['in'], 'subsequently': ['wrote'], 'freesoftware': ['replacement'], 'replacement': ['for'], 'called': ['Git'], 'Git': [''], 'stated': ['that'], 'Fedora': ['Linux'], 'distribution': ['because'], 'because': ['it'], 'had': ['fairly'], 'fairly': ['good'], 'good': ['support'], 'support': ['for'], 'PowerPC': ['processor'], 'processor': ['architecture'], 'architecture': ['which'], 'favored': ['at'], 'confirmed': ['this'], 'interview': ['He'], 'posted': ['updates'], 'updates': ['about'], 'choice': ['of'], 'desktop': ['environment'], 'environment': ['often'], 'often': ['in'], 'response': ['to'], 'perceived': ['feature'], 'feature': ['regressions'], 'regressions': [''], 'currently': ['sponsors'], 'sponsors': ['Torvalds'], 'can': ['work'], 'fulltime': ['on'], 'improving': ['Linux'], 'known': ['for'], 'vocally': ['disagreeing'], 'disagreeing': ['with'], 'mailing': ['list'], 'list': ['Calling'], 'Calling': ['himself'], 'himself': ['a'], 'really': ['unpleasant'], 'unpleasant': ['person'], 'person': ['he', 'and'], 'explained': ['Id'], 'Id': ['like'], 'nice': ['person'], 'curse': ['less'], 'less': ['and'], 'encourage': ['people'], 'people': ['to'], 'grow': ['rather'], 'rather': ['than'], 'telling': ['them'], 'them': ['they'], 'they': ['are'], 'are': ['idiots'], 'idiots': ['Im'], 'Im': ['sorry—I'], 'sorry—I': ['tried'], 'tried': ['its'], 'just': ['not'], 'me': ['His'], 'attitude': ['which'], 'considers': ['necessary'], 'necessary': ['for'], 'making': ['his'], 'points': ['clear'], 'clear': ['has'], 'drawn': ['criticism'], 'criticism': ['from'], 'programmer': ['Sage'], 'Sage': ['Sharp'], 'Sharp': ['and'], 'systemd': ['developer'], 'developer': ['Lennart'], 'Lennart': ['Poettering'], 'Poettering': ['among'], 'among': ['othersfailed'], 'othersfailed': ['verification'], 'verification': [''], 'Sunday': [''], 'September': [''], 'Conflict': ['was'], 'suddenly': ['replaced'], 'replaced': ['by'], 'new': ['Code'], 'Conduct': ['based'], 'Contributor': ['Covenant'], 'Covenant': ['Shortly'], 'Shortly': ['thereafter'], 'thereafter': ['in'], 'release': ['notes', 'of'], 'notes': ['for'], 'rc': ['Torvalds'], 'apologized': ['for'], 'behavior': ['calling'], 'calling': ['his'], 'attacks': ['of'], 'past': ['unprofessional'], 'unprofessional': ['and'], 'uncalled': ['for'], 'announced': ['a'], 'period': ['of'], 'off': ['to'], 'assistance': ['on'], 'how': ['to'], 'understand': ['peoples'], 'peoples': ['emotions'], 'emotions': ['and'], 'respond': ['appropriately'], 'appropriately': ['It'], 'It': ['soon'], 'soon': ['transpired'], 'transpired': ['that'], 'these': ['events'], 'events': ['followed'], 'followed': ['The'], 'New': ['Yorker'], 'Yorker': ['approaching'], 'approaching': ['Torvalds'], 'series': ['of'], 'questions': ['critical'], 'critical': ['of'], 'conduct': ['Following'], 'Following': ['the'], 'October': [''], 'returned': ['to'], 'maintaining': ['the']})\n",
      "\n",
      "Sample prompt:  He was\n",
      "\n",
      "Word Search first starting word:  was\n",
      "Sample Output:  He was\n",
      "\n",
      "Iteration:  0\n",
      "--------------------------------------------------\n",
      "Current option ## was : ['born', 'later', 'born', 'named', 'named', 'interrupted', 'exposed', 'titled', 'so', 'released', 'involved', 'named', 'criticized', 'suddenly']\n",
      "Random Chosen word:  so\n",
      "Final Output of this iteration:  He was so\n",
      "\n",
      "Iteration:  1\n",
      "--------------------------------------------------\n",
      "Current option ## so : ['hard', 'he']\n",
      "Random Chosen word:  he\n",
      "Final Output of this iteration:  He was so he\n",
      "\n",
      "Iteration:  2\n",
      "--------------------------------------------------\n",
      "Current option ## he : ['performed', 'attended', 'would', 'found', 'could', 'is', 'joined', 'did', 'modified', 'wrote', 'purchased', 'worked', 'continues', 'was', 'was', 'also', 'uses', 'used', 'favored', 'can', 'explained', 'considers']\n",
      "Random Chosen word:  continues\n",
      "Final Output of this iteration:  He was so he continues\n",
      "\n",
      "Iteration:  3\n",
      "--------------------------------------------------\n",
      "Current option ## continues : ['to']\n",
      "Random Chosen word:  to\n",
      "Final Output of this iteration:  He was so he continues to\n",
      "\n",
      "Iteration:  4\n",
      "--------------------------------------------------\n",
      "Current option ## to : ['stay', 'model', 'many', 'the', '', 'fulfill', 'Unix', 'get', 'PacMan', 'begin', 'the', 'listen', 'free', 'Transmeta', 'June', 'the', 'become', 'work', 'Dunthorpe', 'be', 'the', '', 'about', 'do', 'perceived', 'be', 'grow', 'get', 'understand', 'maintaining']\n",
      "Random Chosen word:  model\n",
      "Final Output of this iteration:  He was so he continues to model\n",
      "\n",
      "Iteration:  5\n",
      "--------------------------------------------------\n",
      "Current option ## model : ['the']\n",
      "Random Chosen word:  the\n",
      "Final Output of this iteration:  He was so he continues to model the\n",
      "\n",
      "Iteration:  6\n",
      "--------------------------------------------------\n",
      "Current option ## the : ['St', 'university', 'alliteration', 'son', 'grandson', 'greatgrandson', 'University', 's', 'Swedishspeaking', 'Nobel', 'book', 'Open', 'Peanuts', 'University', 'NODES', 'Finnish', 'summer', 'month', 'mandatory', 'rank', 'role', 'first', 'form', 'age', '', 'QL', 'GNU', 'University', 'company', 'Open', 'Free', 'Linux', 'OSDLs', 'standard', 'MIT', 'worlds', 'Linux', 'Linux', 'only', 'best', 'job', 'proprietary', 'Linux', 'Fedora', 'PowerPC', 'time', 'Linux', 'Linux', 'Contributor', 'release', 'past', 'release', 'kernel']\n",
      "Random Chosen word:  standard\n",
      "Final Output of this iteration:  He was so he continues to model the standard\n",
      "\n",
      "Iteration:  7\n",
      "--------------------------------------------------\n",
      "Current option ## standard : ['binary']\n",
      "Random Chosen word:  binary\n",
      "Final Output of this iteration:  He was so he continues to model the standard binary\n",
      "\n",
      "Iteration:  8\n",
      "--------------------------------------------------\n",
      "Current option ## binary : ['format']\n",
      "Random Chosen word:  format\n",
      "Final Output of this iteration:  He was so he continues to model the standard binary format\n",
      "\n",
      "Iteration:  9\n",
      "--------------------------------------------------\n",
      "Current option ## format : ['for']\n",
      "Random Chosen word:  for\n",
      "Final Output of this iteration:  He was so he continues to model the standard binary format for\n",
      "\n",
      "He was so he continues to model the standard binary format for\n"
     ]
    }
   ],
   "source": [
    "# Python code​​​​​​‌​‌​‌​‌‌​​​​​​​‌​​‌​‌‌​​​ below\n",
    "# Use print(\"messages...\") to debug your solution.\n",
    "import random\n",
    "from string import punctuation\n",
    "from collections import defaultdict\n",
    "\n",
    "show_expected_result = False\n",
    "show_hints = False\n",
    "\n",
    "\n",
    "class MarkovChain:\n",
    "    def __init__(self):\n",
    "        self.graph = defaultdict(list)\n",
    "\n",
    "    def _tokenize(self, text):\n",
    "        return (\n",
    "            text.translate(str.maketrans(\"\", \"\", punctuation + \"1234567890\"))\n",
    "            .replace(\"\\n\", \" \")\n",
    "            .split(\" \")\n",
    "        )\n",
    "\n",
    "    def train(self, text):\n",
    "        tokens = self._tokenize(text)\n",
    "        print(\"Tokens: \", tokens)\n",
    "        for i, token in enumerate(tokens):\n",
    "            \n",
    "            if (len(tokens) - 1) == i:\n",
    "                break\n",
    "            self.graph[token].append(tokens[i + 1])\n",
    "        print(\"Graph: \", self.graph, end=\"\\n\\n\")   \n",
    "\n",
    "    def generate(self, prompt, length=10):\n",
    "        # get the lask token from the prompt\n",
    "        current = self._tokenize(prompt)[-1]\n",
    "        # initialize the output\n",
    "        output = prompt\n",
    "        print(\"Word Search first starting word: \", current)\n",
    "        print(\"Sample Output: \", output, end=\"\\n\\n\")\n",
    "        \n",
    "        for i in range(length):\n",
    "            print(\"Iteration: \", i, end=\"\\n\")\n",
    "            print(\"--------------------------------------------------\", end=\"\\n\")\n",
    "            \n",
    "            print(f\"Current option ## {current} : {self.graph[current]}\", end=\"\\n\")\n",
    "            \n",
    "            # look up the options in the graph dictionary\n",
    "            options = self.graph.get(current, [])\n",
    "            # print(options)\n",
    "            if not options:\n",
    "                continue\n",
    "            # use random.choice method to pick a current option\n",
    "            current = random.choice(options)\n",
    "            \n",
    "            print(\"Random Chosen word: \", current)\n",
    "        \n",
    "            # add the random choice to the output string\n",
    "            output += \" \" + current\n",
    "            print(\"Final Output of this iteration: \", output, end=\"\\n\\n\")\n",
    "            \n",
    "            \n",
    "        return output\n",
    "text = \"\"\"Andrey Markov was born on 14 June 1856 in Russia. \n",
    "He attended the St. Petersburg Grammar School, where some teachers saw him as a rebellious student. In his academics he performed poorly in most subjects other than mathematics. Later in life he attended Saint Petersburg Imperial University (now Saint Petersburg State University). Among his teachers were Yulian Sokhotski (differential calculus, higher algebra), Konstantin Posse (analytic geometry), Yegor Zolotarev (integral calculus), Pafnuty Chebyshev (number theory and probability theory), Aleksandr Korkin (ordinary and partial differential equations), Mikhail Okatov (mechanism theory), Osip Somov (mechanics), and Nikolai Budajev (descriptive and higher geometry). He completed his studies at the university and was later asked if he would like to stay and have a career as a Mathematician. He later taught at high schools and continued his own mathematical studies. In this time he found a practical use for his mathematical skills. He figured out that he could use chains to model the alliteration of vowels and consonants in Russian literature. He also contributed to many other mathematical aspects in his time. He died at age 66 on 20 July 1922.\n",
    "Torvalds was born in Helsinki, Finland, the son of journalists Anna and Nils Torvalds,[7] the grandson of statistician Leo Törnqvist and of poet Ole Torvalds, and the great-grandson of journalist and soldier Toivo Karanko. His parents were campus radicals at the University of Helsinki in the 1960s. His family belongs to the Swedish-speaking minority in Finland. He was named after Linus Pauling, the Nobel Prize-winning American chemist, although in the book Rebel Code: Linux and the Open Source Revolution, he is quoted as saying, \"I think I was named equally for Linus the Peanuts cartoon character\", noting that this made him \"half Nobel Prize-winning chemist and half blanket-carrying cartoon character\".[8]\n",
    "\n",
    "Torvalds attended the University of Helsinki from 1988 to 1996,[9] graduating with a master's degree in computer science from the NODES research group.[10] His academic career was interrupted after his first year of study when he joined the Finnish Navy Nyland Brigade in the summer of 1989, selecting the 11-month officer training program to fulfill the mandatory military service of Finland. He gained the rank of second lieutenant, with the role of an artillery observer.[11] He bought computer science professor Andrew Tanenbaum's book Operating Systems: Design and Implementation, in which Tanenbaum describes MINIX, an educational stripped-down version of Unix. In 1990, Torvalds resumed his university studies, and was exposed to Unix for the first time in the form of a DEC MicroVAX running ULTRIX.[12] His MSc thesis was titled Linux: A Portable Operating System.[13]\n",
    "\n",
    "His interest in computers began with a VIC-20[14] at the age of 11 in 1981. He started programming for it in BASIC, then later by directly accessing the 6502 CPU in machine code (he did not utilize assembly language).[15] He then purchased a Sinclair QL, which he modified extensively, especially its operating system. \"Because it was so hard to get software for it in Finland\", he wrote his own assembler and editor \"(in addition to Pac-Man graphics libraries)\"[16] for the QL, and a few games.[17][18] He wrote a Pac-Man clone, Cool Man. On 5 January 1991[19] he purchased an Intel 80386-based clone of IBM PC[20] before receiving his MINIX copy, which in turn enabled him to begin work on Linux.\n",
    "\n",
    "Linux\n",
    "Main article: History of Linux\n",
    "The first Linux prototypes were publicly released in late 1991.[8][21] Version 1.0 was released on 14 March 1994.[22]\n",
    "\n",
    "Torvalds first encountered the GNU Project in 1991 when another Swedish-speaking computer science student, Lars Wirzenius, took him to the University of Technology to listen to free software guru Richard Stallman's speech.[citation needed] Torvalds used Stallman's GNU General Public License version 2 (GPLv2) for his Linux kernel.\n",
    "\n",
    "After a visit to Transmeta in late 1996,[23] Torvalds accepted a position at the company in California, where he worked from February 1997 to June 2003. He then moved to the Open Source Development Labs, which has since merged with the Free Standards Group to become the Linux Foundation, under whose auspices he continues to work. In June 2004, Torvalds and his family moved to Dunthorpe, Oregon[24] to be closer to the OSDL's headquarters in Beaverton.\n",
    "\n",
    "From 1997 to 1999, he was involved in 86open, helping select the standard binary format for Linux and Unix. In 1999, he was named by the MIT Technology Review TR100 as one of the world's top 100 innovators under age 35.[25]\n",
    "\n",
    "In 1999, Red Hat and VA Linux, both leading developers of Linux-based software, presented Torvalds with stock options in gratitude for his creation.[26] That year both companies went public and Torvalds's share value briefly shot up to about US$20 million.[27][28]\n",
    "\n",
    "His personal mascot is a penguin nicknamed Tux,[29] which has been widely adopted by the Linux community as the Linux kernel's mascot.[30]\n",
    "\n",
    "Although Torvalds believes \"open source is the only right way to do software\", he also has said that he uses the \"best tool for the job\", even if that includes proprietary software.[31] He was criticized for his use and alleged advocacy of the proprietary BitKeeper software for version control in the Linux kernel. He subsequently wrote a free-software replacement for it called Git.\n",
    "\n",
    "In 2008, Torvalds stated that he used the Fedora Linux distribution because it had fairly good support for the PowerPC processor architecture, which he favored at the time.[32] He confirmed this in a 2012 interview.[33] He has also posted updates about his choice of desktop environment, often in response to perceived feature regressions.\n",
    "\n",
    "The Linux Foundation currently sponsors Torvalds so he can work full-time on improving Linux.[34]\n",
    "\n",
    "Torvalds is known for vocally disagreeing with other developers on the Linux kernel mailing list.[35] Calling himself a \"really unpleasant person\", he explained, \"I'd like to be a nice person and curse less and encourage people to grow rather than telling them they are idiots. I'm sorry—I tried, it's just not in me.\"[36][37] His attitude, which he considers necessary for making his points clear, has drawn criticism from Intel programmer Sage Sharp and systemd developer Lennart Poettering, among others.[38][failed verification][39]\n",
    "\n",
    "On Sunday, 16 September 2018, the Linux kernel Code of Conflict was suddenly replaced by a new Code of Conduct based on the Contributor Covenant. Shortly thereafter, in the release notes for Linux 4.19-rc4, Torvalds apologized for his behavior, calling his personal attacks of the past \"unprofessional and uncalled for\" and announced a period of \"time off\" to \"get some assistance on how to understand people's emotions and respond appropriately\". It soon transpired that these events followed The New Yorker approaching Torvalds with a series of questions critical of his conduct.[40][41][42] Following the release of Linux 4.19 on 22 October 2018, Torvalds returned to maintaining the kernel.[43]\n",
    "\"\"\"\n",
    "chain = MarkovChain()\n",
    "chain.train(text)\n",
    "# print(chain.graph)\n",
    "sample_prompt = \"He was\"\n",
    "print(\"Sample prompt: \",sample_prompt, end=\"\\n\\n\")\n",
    "print(chain.generate(sample_prompt)) # sample_prompt is the prompt for the generated text\n"
   ]
  },
  {
   "cell_type": "code",
   "execution_count": 48,
   "metadata": {},
   "outputs": [
    {
     "name": "stdout",
     "output_type": "stream",
     "text": [
      "city : New York\n"
     ]
    }
   ],
   "source": [
    "# Example dictionary\n",
    "my_dict = {\n",
    "    'name': 'John',\n",
    "    'age': 25,\n",
    "    'city': 'New York',\n",
    "    'country': 'USA'\n",
    "}\n",
    "\n",
    "# Specify the key you want to print values for\n",
    "key_to_print = 'city'\n",
    "\n",
    "# Check if the key exists in the dictionary\n",
    "if key_to_print in my_dict:\n",
    "    # Print the key and its values in the specified format\n",
    "    print(f\"{key_to_print} : {my_dict[key_to_print]}\")\n",
    "else:\n",
    "    print(f\"The key '{key_to_print}' does not exist in the dictionary.\")"
   ]
  }
 ],
 "metadata": {
  "kernelspec": {
   "display_name": "Python 3",
   "language": "python",
   "name": "python3"
  },
  "language_info": {
   "codemirror_mode": {
    "name": "ipython",
    "version": 3
   },
   "file_extension": ".py",
   "mimetype": "text/x-python",
   "name": "python",
   "nbconvert_exporter": "python",
   "pygments_lexer": "ipython3",
   "version": "3.11.7"
  }
 },
 "nbformat": 4,
 "nbformat_minor": 2
}
