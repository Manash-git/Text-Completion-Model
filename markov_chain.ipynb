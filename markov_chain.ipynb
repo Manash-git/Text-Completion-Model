{
 "cells": [
  {
   "cell_type": "code",
   "execution_count": 4,
   "metadata": {},
   "outputs": [],
   "source": [
    "# This is how your code will be called.\n",
    "# Your answer should be the largest value in the numbers list.\n",
    "# You can edit this code to try different testing cases.\n",
    "text = \"\"\"Andrey Markov was born on 14 June 1856 in Russia. He attended the St. Petersburg Grammar School, where some teachers saw him as a rebellious student. In his academics he performed poorly in most subjects other than mathematics. Later in life he attended Saint Petersburg Imperial University (now Saint Petersburg State University). Among his teachers were Yulian Sokhotski (differential calculus, higher algebra), Konstantin Posse (analytic geometry), Yegor Zolotarev (integral calculus), Pafnuty Chebyshev (number theory and probability theory), Aleksandr Korkin (ordinary and partial differential equations), Mikhail Okatov (mechanism theory), Osip Somov (mechanics), and Nikolai Budajev (descriptive and higher geometry). He completed his studies at the university and was later asked if he would like to stay and have a career as a Mathematician. He later taught at high schools and continued his own mathematical studies. In this time he found a practical use for his mathematical skills. He figured out that he could use chains to model the alliteration of vowels and consonants in Russian literature. He also contributed to many other mathematical aspects in his time. He died at age 66 on 20 July 1922.\n",
    "Torvalds was born in Helsinki, Finland, the son of journalists Anna and Nils Torvalds,[7] the grandson of statistician Leo Törnqvist and of poet Ole Torvalds, and the great-grandson of journalist and soldier Toivo Karanko. His parents were campus radicals at the University of Helsinki in the 1960s. His family belongs to the Swedish-speaking minority in Finland. He was named after Linus Pauling, the Nobel Prize-winning American chemist, although in the book Rebel Code: Linux and the Open Source Revolution, he is quoted as saying, \"I think I was named equally for Linus the Peanuts cartoon character\", noting that this made him \"half Nobel Prize-winning chemist and half blanket-carrying cartoon character\".[8]\n",
    "\n",
    "Torvalds attended the University of Helsinki from 1988 to 1996,[9] graduating with a master's degree in computer science from the NODES research group.[10] His academic career was interrupted after his first year of study when he joined the Finnish Navy Nyland Brigade in the summer of 1989, selecting the 11-month officer training program to fulfill the mandatory military service of Finland. He gained the rank of second lieutenant, with the role of an artillery observer.[11] He bought computer science professor Andrew Tanenbaum's book Operating Systems: Design and Implementation, in which Tanenbaum describes MINIX, an educational stripped-down version of Unix. In 1990, Torvalds resumed his university studies, and was exposed to Unix for the first time in the form of a DEC MicroVAX running ULTRIX.[12] His MSc thesis was titled Linux: A Portable Operating System.[13]\n",
    "\n",
    "His interest in computers began with a VIC-20[14] at the age of 11 in 1981. He started programming for it in BASIC, then later by directly accessing the 6502 CPU in machine code (he did not utilize assembly language).[15] He then purchased a Sinclair QL, which he modified extensively, especially its operating system. \"Because it was so hard to get software for it in Finland\", he wrote his own assembler and editor \"(in addition to Pac-Man graphics libraries)\"[16] for the QL, and a few games.[17][18] He wrote a Pac-Man clone, Cool Man. On 5 January 1991[19] he purchased an Intel 80386-based clone of IBM PC[20] before receiving his MINIX copy, which in turn enabled him to begin work on Linux.\n",
    "\n",
    "Linux\n",
    "Main article: History of Linux\n",
    "The first Linux prototypes were publicly released in late 1991.[8][21] Version 1.0 was released on 14 March 1994.[22]\n",
    "\n",
    "Torvalds first encountered the GNU Project in 1991 when another Swedish-speaking computer science student, Lars Wirzenius, took him to the University of Technology to listen to free software guru Richard Stallman's speech.[citation needed] Torvalds used Stallman's GNU General Public License version 2 (GPLv2) for his Linux kernel.\n",
    "\n",
    "After a visit to Transmeta in late 1996,[23] Torvalds accepted a position at the company in California, where he worked from February 1997 to June 2003. He then moved to the Open Source Development Labs, which has since merged with the Free Standards Group to become the Linux Foundation, under whose auspices he continues to work. In June 2004, Torvalds and his family moved to Dunthorpe, Oregon[24] to be closer to the OSDL's headquarters in Beaverton.\n",
    "\n",
    "From 1997 to 1999, he was involved in 86open, helping select the standard binary format for Linux and Unix. In 1999, he was named by the MIT Technology Review TR100 as one of the world's top 100 innovators under age 35.[25]\n",
    "\n",
    "In 1999, Red Hat and VA Linux, both leading developers of Linux-based software, presented Torvalds with stock options in gratitude for his creation.[26] That year both companies went public and Torvalds's share value briefly shot up to about US$20 million.[27][28]\n",
    "\n",
    "His personal mascot is a penguin nicknamed Tux,[29] which has been widely adopted by the Linux community as the Linux kernel's mascot.[30]\n",
    "\n",
    "Although Torvalds believes \"open source is the only right way to do software\", he also has said that he uses the \"best tool for the job\", even if that includes proprietary software.[31] He was criticized for his use and alleged advocacy of the proprietary BitKeeper software for version control in the Linux kernel. He subsequently wrote a free-software replacement for it called Git.\n",
    "\n",
    "In 2008, Torvalds stated that he used the Fedora Linux distribution because it had fairly good support for the PowerPC processor architecture, which he favored at the time.[32] He confirmed this in a 2012 interview.[33] He has also posted updates about his choice of desktop environment, often in response to perceived feature regressions.\n",
    "\n",
    "The Linux Foundation currently sponsors Torvalds so he can work full-time on improving Linux.[34]\n",
    "\n",
    "Torvalds is known for vocally disagreeing with other developers on the Linux kernel mailing list.[35] Calling himself a \"really unpleasant person\", he explained, \"I'd like to be a nice person and curse less and encourage people to grow rather than telling them they are idiots. I'm sorry—I tried, it's just not in me.\"[36][37] His attitude, which he considers necessary for making his points clear, has drawn criticism from Intel programmer Sage Sharp and systemd developer Lennart Poettering, among others.[38][failed verification][39]\n",
    "\n",
    "On Sunday, 16 September 2018, the Linux kernel Code of Conflict was suddenly replaced by a new Code of Conduct based on the Contributor Covenant. Shortly thereafter, in the release notes for Linux 4.19-rc4, Torvalds apologized for his behavior, calling his personal attacks of the past \"unprofessional and uncalled for\" and announced a period of \"time off\" to \"get some assistance on how to understand people's emotions and respond appropriately\". It soon transpired that these events followed The New Yorker approaching Torvalds with a series of questions critical of his conduct.[40][41][42] Following the release of Linux 4.19 on 22 October 2018, Torvalds returned to maintaining the kernel.[43]\n",
    "\"\"\"\n",
    "\n"
   ]
  },
  {
   "cell_type": "code",
   "execution_count": 5,
   "metadata": {},
   "outputs": [],
   "source": [
    "# Python code​​​​​​‌​‌​‌​‌‌​​​​​​​‌​​‌​‌‌​​​ below\n",
    "# Use print(\"messages...\") to debug your solution.\n",
    "import random\n",
    "from string import punctuation\n",
    "from collections import defaultdict\n",
    "\n",
    "class MarkovChain:\n",
    "    def __init__(self):\n",
    "        self.graph = defaultdict(list)\n",
    "\n",
    "    def _tokenize(self, text):\n",
    "        return (\n",
    "            text.translate(str.maketrans(\"\", \"\", punctuation + \"1234567890\"))\n",
    "            .replace(\"\\n\", \" \")\n",
    "            .split(\" \")\n",
    "        )\n",
    "\n",
    "    def train(self, text):\n",
    "        tokens = self._tokenize(text)\n",
    "        for i, token in enumerate(tokens):\n",
    "            \n",
    "            if (len(tokens) - 1) == i:\n",
    "                break\n",
    "            self.graph[token].append(tokens[i + 1])\n",
    "\n",
    "    def generate(self, prompt, length=10):\n",
    "        # get the lask token from the prompt\n",
    "        current = self._tokenize(prompt)[-1]\n",
    "        # initialize the output\n",
    "        output = prompt\n",
    "        for i in range(length):\n",
    "            # look up the options in the graph dictionary\n",
    "            options = self.graph.get(current, [])\n",
    "            if not options:\n",
    "                continue\n",
    "            # use random.choice method to pick a current option\n",
    "            current = random.choice(options)\n",
    "            # add the random choice to the output string\n",
    "            output += \" \" + current\n",
    "            \n",
    "        return output\n"
   ]
  },
  {
   "cell_type": "code",
   "execution_count": 8,
   "metadata": {},
   "outputs": [
    {
     "name": "stdout",
     "output_type": "stream",
     "text": [
      "defaultdict(<class 'list'>, {'Andrey': ['Markov'], 'Markov': ['was'], 'was': ['born', 'later', 'born', 'named', 'named', 'interrupted', 'exposed', 'titled', 'so', 'released', 'involved', 'named', 'criticized', 'suddenly'], 'born': ['on', 'in'], 'on': ['', '', 'Linux', '', 'improving', 'the', 'the', 'how', ''], '': ['June', 'in', 'on', 'July', 'Torvalds', 'Torvalds', 'to', 'graduating', 'selecting', 'Torvalds', 'His', 'in', 'He', 'CPU', 'January', 'he', 'Linux', 'Version', 'was', 'March', '', 'Torvalds', 'when', 'GPLv', 'After', 'Torvalds', 'to', 'He', 'Torvalds', 'From', 'to', 'he', 'he', 'innovators', '', 'In', 'Red', 'His', 'Although', 'In', 'Torvalds', 'interview', 'The', 'Torvalds', 'On', 'September', 'the', 'on', 'October', 'Torvalds'], 'June': ['', '', ''], 'in': ['Russia', 'most', 'life', 'Russian', 'his', 'Helsinki', 'the', 'Finland', 'the', 'computer', 'the', 'which', 'the', 'computers', '', 'BASIC', 'machine', 'Finland', 'addition', 'turn', 'late', '', 'late', 'California', 'Beaverton', 'open', 'gratitude', 'the', 'a', 'response', 'me', 'the'], 'Russia': ['He'], 'He': ['attended', 'completed', 'later', 'figured', 'also', 'died', 'was', 'gained', 'bought', 'started', 'then', 'wrote', 'then', 'was', 'subsequently', 'confirmed', 'has'], 'attended': ['the', 'Saint', 'the'], 'the': ['St', 'university', 'alliteration', 'son', 'grandson', 'greatgrandson', 'University', 's', 'Swedishspeaking', 'Nobel', 'book', 'Open', 'Peanuts', 'University', 'NODES', 'Finnish', 'summer', 'month', 'mandatory', 'rank', 'role', 'first', 'form', 'age', '', 'QL', 'GNU', 'University', 'company', 'Open', 'Free', 'Linux', 'OSDLs', 'standard', 'MIT', 'worlds', 'Linux', 'Linux', 'only', 'best', 'job', 'proprietary', 'Linux', 'Fedora', 'PowerPC', 'time', 'Linux', 'Linux', 'Contributor', 'release', 'past', 'release', 'kernel'], 'St': ['Petersburg'], 'Petersburg': ['Grammar', 'Imperial', 'State'], 'Grammar': ['School'], 'School': ['where'], 'where': ['some', 'he'], 'some': ['teachers', 'assistance'], 'teachers': ['saw', 'were'], 'saw': ['him'], 'him': ['as', 'half', 'to', 'to'], 'as': ['a', 'a', 'saying', 'one', 'the'], 'a': ['rebellious', 'career', 'Mathematician', 'practical', 'masters', 'DEC', 'VIC', 'Sinclair', 'few', 'PacMan', 'visit', 'position', 'penguin', 'freesoftware', '', 'really', 'nice', 'new', 'period', 'series'], 'rebellious': ['student'], 'student': ['In', 'Lars'], 'In': ['his', 'this', '', 'June', '', '', ''], 'his': ['academics', 'teachers', 'studies', 'own', 'mathematical', 'time', 'first', 'university', 'own', 'MINIX', 'Linux', 'family', 'creation', 'use', 'choice', 'points', 'behavior', 'personal', 'conduct'], 'academics': ['he'], 'he': ['performed', 'attended', 'would', 'found', 'could', 'is', 'joined', 'did', 'modified', 'wrote', 'purchased', 'worked', 'continues', 'was', 'was', 'also', 'uses', 'used', 'favored', 'can', 'explained', 'considers'], 'performed': ['poorly'], 'poorly': ['in'], 'most': ['subjects'], 'subjects': ['other'], 'other': ['than', 'mathematical', 'developers'], 'than': ['mathematics', 'telling'], 'mathematics': ['Later'], 'Later': ['in'], 'life': ['he'], 'Saint': ['Petersburg', 'Petersburg'], 'Imperial': ['University'], 'University': ['now', 'Among', 'of', 'of', 'of'], 'now': ['Saint'], 'State': ['University'], 'Among': ['his'], 'were': ['Yulian', 'campus', 'publicly'], 'Yulian': ['Sokhotski'], 'Sokhotski': ['differential'], 'differential': ['calculus', 'equations'], 'calculus': ['higher', 'Pafnuty'], 'higher': ['algebra', 'geometry'], 'algebra': ['Konstantin'], 'Konstantin': ['Posse'], 'Posse': ['analytic'], 'analytic': ['geometry'], 'geometry': ['Yegor', 'He'], 'Yegor': ['Zolotarev'], 'Zolotarev': ['integral'], 'integral': ['calculus'], 'Pafnuty': ['Chebyshev'], 'Chebyshev': ['number'], 'number': ['theory'], 'theory': ['and', 'Aleksandr', 'Osip'], 'and': ['probability', 'partial', 'Nikolai', 'higher', 'was', 'have', 'continued', 'consonants', 'Nils', 'of', 'the', 'soldier', 'the', 'half', 'Implementation', 'was', 'editor', 'a', 'his', 'Unix', 'VA', 'Torvaldss', 'alleged', 'curse', 'encourage', 'systemd', 'uncalled', 'announced', 'respond'], 'probability': ['theory'], 'Aleksandr': ['Korkin'], 'Korkin': ['ordinary'], 'ordinary': ['and'], 'partial': ['differential'], 'equations': ['Mikhail'], 'Mikhail': ['Okatov'], 'Okatov': ['mechanism'], 'mechanism': ['theory'], 'Osip': ['Somov'], 'Somov': ['mechanics'], 'mechanics': ['and'], 'Nikolai': ['Budajev'], 'Budajev': ['descriptive'], 'descriptive': ['and'], 'completed': ['his'], 'studies': ['at', 'In', 'and'], 'at': ['the', 'high', 'age', 'the', 'the', 'the', 'the'], 'university': ['and', 'studies'], 'later': ['asked', 'taught', 'by'], 'asked': ['if'], 'if': ['he', 'that'], 'would': ['like'], 'like': ['to', 'to'], 'to': ['stay', 'model', 'many', 'the', '', 'fulfill', 'Unix', 'get', 'PacMan', 'begin', 'the', 'listen', 'free', 'Transmeta', 'June', 'the', 'become', 'work', 'Dunthorpe', 'be', 'the', '', 'about', 'do', 'perceived', 'be', 'grow', 'get', 'understand', 'maintaining'], 'stay': ['and'], 'have': ['a'], 'career': ['as', 'was'], 'Mathematician': ['He'], 'taught': ['at'], 'high': ['schools'], 'schools': ['and'], 'continued': ['his'], 'own': ['mathematical', 'assembler'], 'mathematical': ['studies', 'skills', 'aspects'], 'this': ['time', 'made', 'in'], 'time': ['he', 'He', 'in', 'He', 'off'], 'found': ['a'], 'practical': ['use'], 'use': ['for', 'chains', 'and'], 'for': ['his', 'Linus', 'the', 'it', 'it', 'the', 'his', 'Linux', 'his', 'the', 'his', 'version', 'it', 'the', 'vocally', 'making', 'Linux', 'his', 'and'], 'skills': ['He'], 'figured': ['out'], 'out': ['that'], 'that': ['he', 'this', 'he', 'includes', 'he', 'these'], 'could': ['use'], 'chains': ['to'], 'model': ['the'], 'alliteration': ['of'], 'of': ['vowels', 'journalists', 'statistician', 'poet', 'journalist', 'Helsinki', 'Helsinki', 'study', '', 'Finland', 'second', 'an', 'Unix', 'a', '', 'IBM', 'Linux', 'Technology', 'the', 'Linuxbased', 'the', 'desktop', 'Conflict', 'Conduct', 'the', 'time', 'questions', 'his', 'Linux'], 'vowels': ['and'], 'consonants': ['in'], 'Russian': ['literature'], 'literature': ['He'], 'also': ['contributed', 'has', 'posted'], 'contributed': ['to'], 'many': ['other'], 'aspects': ['in'], 'died': ['at'], 'age': ['', 'of', ''], 'July': [''], 'Torvalds': ['was', 'the', 'and', 'attended', 'resumed', 'first', 'used', 'accepted', 'and', 'with', 'believes', 'stated', 'so', 'is', 'apologized', 'with', 'returned'], 'Helsinki': ['Finland', 'in', 'from'], 'Finland': ['the', 'He', 'He', 'he'], 'son': ['of'], 'journalists': ['Anna'], 'Anna': ['and'], 'Nils': ['Torvalds'], 'grandson': ['of'], 'statistician': ['Leo'], 'Leo': ['Törnqvist'], 'Törnqvist': ['and'], 'poet': ['Ole'], 'Ole': ['Torvalds'], 'greatgrandson': ['of'], 'journalist': ['and'], 'soldier': ['Toivo'], 'Toivo': ['Karanko'], 'Karanko': ['His'], 'His': ['parents', 'family', 'academic', 'MSc', 'interest', 'personal', 'attitude'], 'parents': ['were'], 'campus': ['radicals'], 'radicals': ['at'], 's': ['His'], 'family': ['belongs', 'moved'], 'belongs': ['to'], 'Swedishspeaking': ['minority', 'computer'], 'minority': ['in'], 'named': ['after', 'equally', 'by'], 'after': ['Linus', 'his'], 'Linus': ['Pauling', 'the'], 'Pauling': ['the'], 'Nobel': ['Prizewinning', 'Prizewinning'], 'Prizewinning': ['American', 'chemist'], 'American': ['chemist'], 'chemist': ['although', 'and'], 'although': ['in'], 'book': ['Rebel', 'Operating'], 'Rebel': ['Code'], 'Code': ['Linux', 'of', 'of'], 'Linux': ['and', 'A', '', 'Main', 'The', 'prototypes', 'kernel', 'Foundation', 'and', 'both', 'community', 'kernels', 'kernel', 'distribution', 'Foundation', '', 'kernel', 'kernel', 'rc', ''], 'Open': ['Source', 'Source'], 'Source': ['Revolution', 'Development'], 'Revolution': ['he'], 'is': ['quoted', 'a', 'the', 'known'], 'quoted': ['as'], 'saying': ['I'], 'I': ['think', 'was'], 'think': ['I'], 'equally': ['for'], 'Peanuts': ['cartoon'], 'cartoon': ['character', 'character'], 'character': ['noting', ''], 'noting': ['that'], 'made': ['him'], 'half': ['Nobel', 'blanketcarrying'], 'blanketcarrying': ['cartoon'], 'from': ['', 'the', 'February', 'Intel'], 'graduating': ['with'], 'with': ['a', 'the', 'a', 'the', 'stock', 'other', 'a'], 'masters': ['degree'], 'degree': ['in'], 'computer': ['science', 'science', 'science'], 'science': ['from', 'professor', 'student'], 'NODES': ['research'], 'research': ['group'], 'group': ['His'], 'academic': ['career'], 'interrupted': ['after'], 'first': ['year', 'time', 'Linux', 'encountered'], 'year': ['of', 'both'], 'study': ['when'], 'when': ['he', 'another'], 'joined': ['the'], 'Finnish': ['Navy'], 'Navy': ['Nyland'], 'Nyland': ['Brigade'], 'Brigade': ['in'], 'summer': ['of'], 'selecting': ['the'], 'month': ['officer'], 'officer': ['training'], 'training': ['program'], 'program': ['to'], 'fulfill': ['the'], 'mandatory': ['military'], 'military': ['service'], 'service': ['of'], 'gained': ['the'], 'rank': ['of'], 'second': ['lieutenant'], 'lieutenant': ['with'], 'role': ['of'], 'an': ['artillery', 'educational', 'Intel'], 'artillery': ['observer'], 'observer': ['He'], 'bought': ['computer'], 'professor': ['Andrew'], 'Andrew': ['Tanenbaums'], 'Tanenbaums': ['book'], 'Operating': ['Systems', 'System'], 'Systems': ['Design'], 'Design': ['and'], 'Implementation': ['in'], 'which': ['Tanenbaum', 'he', 'in', 'has', 'has', 'he', 'he'], 'Tanenbaum': ['describes'], 'describes': ['MINIX'], 'MINIX': ['an', 'copy'], 'educational': ['strippeddown'], 'strippeddown': ['version'], 'version': ['of', '', 'control'], 'Unix': ['In', 'for', 'In'], 'resumed': ['his'], 'exposed': ['to'], 'form': ['of'], 'DEC': ['MicroVAX'], 'MicroVAX': ['running'], 'running': ['ULTRIX'], 'ULTRIX': ['His'], 'MSc': ['thesis'], 'thesis': ['was'], 'titled': ['Linux'], 'A': ['Portable'], 'Portable': ['Operating'], 'System': [''], 'interest': ['in'], 'computers': ['began'], 'began': ['with'], 'VIC': ['at'], 'started': ['programming'], 'programming': ['for'], 'it': ['in', 'was', 'in', 'called', 'had'], 'BASIC': ['then'], 'then': ['later', 'purchased', 'moved'], 'by': ['directly', 'the', 'the', 'a'], 'directly': ['accessing'], 'accessing': ['the'], 'CPU': ['in'], 'machine': ['code'], 'code': ['he'], 'did': ['not'], 'not': ['utilize', 'in'], 'utilize': ['assembly'], 'assembly': ['language'], 'language': ['He'], 'purchased': ['a', 'an'], 'Sinclair': ['QL'], 'QL': ['which', 'and'], 'modified': ['extensively'], 'extensively': ['especially'], 'especially': ['its'], 'its': ['operating', 'just'], 'operating': ['system'], 'system': ['Because'], 'Because': ['it'], 'so': ['hard', 'he'], 'hard': ['to'], 'get': ['software', 'some'], 'software': ['for', 'guru', 'presented', 'he', 'He', 'for'], 'wrote': ['his', 'a', 'a'], 'assembler': ['and'], 'editor': ['in'], 'addition': ['to'], 'PacMan': ['graphics', 'clone'], 'graphics': ['libraries'], 'libraries': ['for'], 'few': ['games'], 'games': ['He'], 'clone': ['Cool', 'of'], 'Cool': ['Man'], 'Man': ['On'], 'On': ['', 'Sunday'], 'January': [''], 'Intel': ['based', 'programmer'], 'based': ['clone', 'on'], 'IBM': ['PC'], 'PC': ['before'], 'before': ['receiving'], 'receiving': ['his'], 'copy': ['which'], 'turn': ['enabled'], 'enabled': ['him'], 'begin': ['work'], 'work': ['on', 'In', 'fulltime'], 'Main': ['article'], 'article': ['History'], 'History': ['of'], 'The': ['first', 'Linux', 'New'], 'prototypes': ['were'], 'publicly': ['released'], 'released': ['in', 'on'], 'late': ['', ''], 'Version': [''], 'March': [''], 'encountered': ['the'], 'GNU': ['Project', 'General'], 'Project': ['in'], 'another': ['Swedishspeaking'], 'Lars': ['Wirzenius'], 'Wirzenius': ['took'], 'took': ['him'], 'Technology': ['to', 'Review'], 'listen': ['to'], 'free': ['software'], 'guru': ['Richard'], 'Richard': ['Stallmans'], 'Stallmans': ['speechcitation', 'GNU'], 'speechcitation': ['needed'], 'needed': ['Torvalds'], 'used': ['Stallmans', 'the'], 'General': ['Public'], 'Public': ['License'], 'License': ['version'], 'GPLv': ['for'], 'kernel': ['', 'He', 'mailing', 'Code', ''], 'After': ['a'], 'visit': ['to'], 'Transmeta': ['in'], 'accepted': ['a'], 'position': ['at'], 'company': ['in'], 'California': ['where'], 'worked': ['from'], 'February': [''], 'moved': ['to', 'to'], 'Development': ['Labs'], 'Labs': ['which'], 'has': ['since', 'been', 'said', 'also', 'drawn'], 'since': ['merged'], 'merged': ['with'], 'Free': ['Standards'], 'Standards': ['Group'], 'Group': ['to'], 'become': ['the'], 'Foundation': ['under', 'currently'], 'under': ['whose', 'age'], 'whose': ['auspices'], 'auspices': ['he'], 'continues': ['to'], 'Dunthorpe': ['Oregon'], 'Oregon': ['to'], 'be': ['closer', 'a'], 'closer': ['to'], 'OSDLs': ['headquarters'], 'headquarters': ['in'], 'Beaverton': [''], 'From': [''], 'involved': ['in'], 'open': ['helping', 'source'], 'helping': ['select'], 'select': ['the'], 'standard': ['binary'], 'binary': ['format'], 'format': ['for'], 'MIT': ['Technology'], 'Review': ['TR'], 'TR': ['as'], 'one': ['of'], 'worlds': ['top'], 'top': [''], 'innovators': ['under'], 'Red': ['Hat'], 'Hat': ['and'], 'VA': ['Linux'], 'both': ['leading', 'companies'], 'leading': ['developers'], 'developers': ['of', 'on'], 'Linuxbased': ['software'], 'presented': ['Torvalds'], 'stock': ['options'], 'options': ['in'], 'gratitude': ['for'], 'creation': ['That'], 'That': ['year'], 'companies': ['went'], 'went': ['public'], 'public': ['and'], 'Torvaldss': ['share'], 'share': ['value'], 'value': ['briefly'], 'briefly': ['shot'], 'shot': ['up'], 'up': ['to'], 'about': ['US', 'his'], 'US': ['million'], 'million': [''], 'personal': ['mascot', 'attacks'], 'mascot': ['is', ''], 'penguin': ['nicknamed'], 'nicknamed': ['Tux'], 'Tux': ['which'], 'been': ['widely'], 'widely': ['adopted'], 'adopted': ['by'], 'community': ['as'], 'kernels': ['mascot'], 'Although': ['Torvalds'], 'believes': ['open'], 'source': ['is'], 'only': ['right'], 'right': ['way'], 'way': ['to'], 'do': ['software'], 'said': ['that'], 'uses': ['the'], 'best': ['tool'], 'tool': ['for'], 'job': ['even'], 'even': ['if'], 'includes': ['proprietary'], 'proprietary': ['software', 'BitKeeper'], 'criticized': ['for'], 'alleged': ['advocacy'], 'advocacy': ['of'], 'BitKeeper': ['software'], 'control': ['in'], 'subsequently': ['wrote'], 'freesoftware': ['replacement'], 'replacement': ['for'], 'called': ['Git'], 'Git': [''], 'stated': ['that'], 'Fedora': ['Linux'], 'distribution': ['because'], 'because': ['it'], 'had': ['fairly'], 'fairly': ['good'], 'good': ['support'], 'support': ['for'], 'PowerPC': ['processor'], 'processor': ['architecture'], 'architecture': ['which'], 'favored': ['at'], 'confirmed': ['this'], 'interview': ['He'], 'posted': ['updates'], 'updates': ['about'], 'choice': ['of'], 'desktop': ['environment'], 'environment': ['often'], 'often': ['in'], 'response': ['to'], 'perceived': ['feature'], 'feature': ['regressions'], 'regressions': [''], 'currently': ['sponsors'], 'sponsors': ['Torvalds'], 'can': ['work'], 'fulltime': ['on'], 'improving': ['Linux'], 'known': ['for'], 'vocally': ['disagreeing'], 'disagreeing': ['with'], 'mailing': ['list'], 'list': ['Calling'], 'Calling': ['himself'], 'himself': ['a'], 'really': ['unpleasant'], 'unpleasant': ['person'], 'person': ['he', 'and'], 'explained': ['Id'], 'Id': ['like'], 'nice': ['person'], 'curse': ['less'], 'less': ['and'], 'encourage': ['people'], 'people': ['to'], 'grow': ['rather'], 'rather': ['than'], 'telling': ['them'], 'them': ['they'], 'they': ['are'], 'are': ['idiots'], 'idiots': ['Im'], 'Im': ['sorry—I'], 'sorry—I': ['tried'], 'tried': ['its'], 'just': ['not'], 'me': ['His'], 'attitude': ['which'], 'considers': ['necessary'], 'necessary': ['for'], 'making': ['his'], 'points': ['clear'], 'clear': ['has'], 'drawn': ['criticism'], 'criticism': ['from'], 'programmer': ['Sage'], 'Sage': ['Sharp'], 'Sharp': ['and'], 'systemd': ['developer'], 'developer': ['Lennart'], 'Lennart': ['Poettering'], 'Poettering': ['among'], 'among': ['othersfailed'], 'othersfailed': ['verification'], 'verification': [''], 'Sunday': [''], 'September': [''], 'Conflict': ['was'], 'suddenly': ['replaced'], 'replaced': ['by'], 'new': ['Code'], 'Conduct': ['based'], 'Contributor': ['Covenant'], 'Covenant': ['Shortly'], 'Shortly': ['thereafter'], 'thereafter': ['in'], 'release': ['notes', 'of'], 'notes': ['for'], 'rc': ['Torvalds'], 'apologized': ['for'], 'behavior': ['calling'], 'calling': ['his'], 'attacks': ['of'], 'past': ['unprofessional'], 'unprofessional': ['and'], 'uncalled': ['for'], 'announced': ['a'], 'period': ['of'], 'off': ['to'], 'assistance': ['on'], 'how': ['to'], 'understand': ['peoples'], 'peoples': ['emotions'], 'emotions': ['and'], 'respond': ['appropriately'], 'appropriately': ['It'], 'It': ['soon'], 'soon': ['transpired'], 'transpired': ['that'], 'these': ['events'], 'events': ['followed'], 'followed': ['The'], 'New': ['Yorker'], 'Yorker': ['approaching'], 'approaching': ['Torvalds'], 'series': ['of'], 'questions': ['critical'], 'critical': ['of'], 'conduct': ['Following'], 'Following': ['the'], 'October': [''], 'returned': ['to'], 'maintaining': ['the']})\n",
      "He was titled Linux both leading developers of an Intel based on\n"
     ]
    }
   ],
   "source": [
    "chain = MarkovChain()\n",
    "chain.train(text)\n",
    "print(chain.graph)\n",
    "sample_prompt = \"He was\"\n",
    "print(chain.generate(sample_prompt)) # sample_prompt is the prompt for the generated text\n",
    "\n",
    "result = chain.generate(sample_prompt)"
   ]
  }
 ],
 "metadata": {
  "kernelspec": {
   "display_name": "Python 3",
   "language": "python",
   "name": "python3"
  },
  "language_info": {
   "codemirror_mode": {
    "name": "ipython",
    "version": 3
   },
   "file_extension": ".py",
   "mimetype": "text/x-python",
   "name": "python",
   "nbconvert_exporter": "python",
   "pygments_lexer": "ipython3",
   "version": "3.11.7"
  }
 },
 "nbformat": 4,
 "nbformat_minor": 2
}
